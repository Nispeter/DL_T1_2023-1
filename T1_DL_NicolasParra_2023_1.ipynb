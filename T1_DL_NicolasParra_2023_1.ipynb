{
  "cells": [
    {
      "cell_type": "markdown",
      "metadata": {
        "id": "unq2QFt40gXE"
      },
      "source": [
        "## Imports"
      ]
    },
    {
      "cell_type": "code",
      "execution_count": null,
      "metadata": {
        "colab": {
          "base_uri": "https://localhost:8080/"
        },
        "id": "GnTIX7yu32a7",
        "outputId": "ec7f8741-f403-428b-b113-df02bb837988"
      },
      "outputs": [
        {
          "output_type": "stream",
          "name": "stdout",
          "text": [
            "Drive already mounted at /content/drive; to attempt to forcibly remount, call drive.mount(\"/content/drive\", force_remount=True).\n"
          ]
        }
      ],
      "source": [
        "#IMPORTS\n",
        "import tensorflow as tf\n",
        "import pandas as pd\n",
        "import numpy as np\n",
        "import csv\n",
        "\n",
        "from tensorflow import keras\n",
        "from tensorflow.keras import layers\n",
        "\n",
        "from keras.layers import Dense, Flatten \n",
        "from keras.layers import Dropout\n",
        "from keras import regularizers\n",
        "\n",
        "from sklearn.preprocessing import OneHotEncoder\n",
        "from skimage.transform import resize\n",
        "from skimage.util import random_noise\n",
        "import matplotlib.pyplot as plt\n",
        "import random\n",
        "\n",
        "from google.colab import drive\n",
        "from google.colab import files\n",
        "drive.mount('/content/drive')"
      ]
    },
    {
      "cell_type": "markdown",
      "metadata": {
        "id": "iPSvPNym0nw2"
      },
      "source": [
        "## Acceso a datos"
      ]
    },
    {
      "cell_type": "code",
      "execution_count": null,
      "metadata": {
        "id": "KVAHTRxde9ZN"
      },
      "outputs": [],
      "source": [
        "# path relativo a google drive\n",
        "path = 'drive/MyDrive/'\n",
        "# cargar los datos respectivos \n",
        "dict_stamps = np.load(path+'dict_stamps.npz')\n",
        "ids_train = open(path+'ids_train.txt')\n",
        "ids_test = open(path+'ids_test.txt')\n",
        "csv_tags = pd.read_csv(path+'CANDELS_trainset_labels.csv')"
      ]
    },
    {
      "cell_type": "markdown",
      "metadata": {
        "id": "tMnSUjF81C8j"
      },
      "source": [
        "## Constantes "
      ]
    },
    {
      "cell_type": "code",
      "execution_count": null,
      "metadata": {
        "id": "zY-a91dx4EWV"
      },
      "outputs": [],
      "source": [
        "#DATA & CONST\n",
        "#cantidades de imagenes \n",
        "TRAINING_CAR = 6431\n",
        "TEST_CAR = 1136\n",
        "\n",
        "#scaling image size 40x40 - 96x96\n",
        "MAX_IMAGE_SIZE = 90\n",
        "CATEGORY_COUNT = 5\n",
        "\n",
        "# variables del modelo\n",
        "PADDING_VALUE = 0\n",
        "LEARNING_RATE = 0.0001\n",
        "NORMALIZING_VALUE = 255\n",
        "\n",
        "#inicializar arreglos vacios\n",
        "train_images = np.empty((TRAINING_CAR, MAX_IMAGE_SIZE, MAX_IMAGE_SIZE))\n",
        "train_labels = np.empty((TRAINING_CAR, CATEGORY_COUNT))\n",
        "\n",
        "test_images = np.empty((TEST_CAR, MAX_IMAGE_SIZE, MAX_IMAGE_SIZE))\n",
        "csv_tags.set_index(csv_tags.columns[0], inplace=True)"
      ]
    },
    {
      "cell_type": "markdown",
      "metadata": {
        "id": "GQiL4bdm1HXP"
      },
      "source": [
        "## Procesamiento de datos"
      ]
    },
    {
      "cell_type": "code",
      "execution_count": null,
      "metadata": {
        "id": "6shSS5GJb_fW"
      },
      "outputs": [],
      "source": [
        "#Escalar las imagenes de entrenamiento \n",
        "i = 0\n",
        "for item in ids_train:\n",
        "  item = item.strip()\n",
        "  image = dict_stamps[item]\n",
        "\n",
        "  image[np.isnan(image)] = PADDING_VALUE\n",
        "\n",
        "  scale_factor = MAX_IMAGE_SIZE / max(image.shape)\n",
        "  image = resize(image, (round(image.shape[0] * scale_factor), round(image.shape[1] * scale_factor)))\n",
        "\n",
        "\n",
        "  pad_width = ((0, max(0, MAX_IMAGE_SIZE - image.shape[0])), (0, max(0, MAX_IMAGE_SIZE - image.shape[1])))\n",
        "  image = np.pad(image, pad_width=pad_width, mode='constant', constant_values=PADDING_VALUE)\n",
        "\n",
        "  train_labels[i] = csv_tags.loc[item]\n",
        "  train_images[i] = image\n",
        "  i += 1\n",
        "\n",
        "#Escalar las imagenes de testeo \n",
        "i = 0\n",
        "for item in ids_test:\n",
        "  item = item.strip()\n",
        "  image = dict_stamps[item]\n",
        "\n",
        "  image[np.isnan(image)] = PADDING_VALUE\n",
        "\n",
        "\n",
        "  scale_factor = MAX_IMAGE_SIZE / max(image.shape)\n",
        "  image = resize(image, (round(image.shape[0] * scale_factor), round(image.shape[1] * scale_factor)))\n",
        "\n",
        "\n",
        "  pad_width = ((0, max(0, MAX_IMAGE_SIZE - image.shape[0])), (0, max(0, MAX_IMAGE_SIZE - image.shape[1])))\n",
        "  image = np.pad(image, pad_width=pad_width, mode='constant', constant_values=PADDING_VALUE)\n",
        "\n",
        "  test_images[i] = image\n",
        "  i += 1\n"
      ]
    },
    {
      "cell_type": "markdown",
      "metadata": {
        "id": "jUFbyhox1OWT"
      },
      "source": [
        "## Data augmentation"
      ]
    },
    {
      "cell_type": "code",
      "execution_count": null,
      "metadata": {
        "id": "DMLv8umP1MfR"
      },
      "outputs": [],
      "source": [
        "#DATA AUGMENTATION \n",
        "augmented_images = np.empty((TRAINING_CAR, MAX_IMAGE_SIZE, MAX_IMAGE_SIZE))\n",
        "#Flip de imagenes en horizontal y vertical\n",
        "for i in range(train_images.shape[0]):\n",
        "    image = train_images[i]\n",
        "    flip_axis = np.random.choice([0, 1])\n",
        "    flipped_image = np.flip(image, axis=flip_axis) \n",
        "    augmented_images[i] = flipped_image\n",
        "\n",
        "train_images = np.concatenate((train_images, augmented_images),axis=0)\n",
        "#agregar ruido \n",
        "noisy_images = train_images + np.random.normal(0,1,train_images[0].shape)*0.01\n",
        "train_images = np.concatenate((train_images, noisy_images),axis=0)\n",
        "\n",
        "train_images = np.concatenate((train_images, np.rot90(train_images, k=1, axes=(1, 2))),axis=0)\n",
        "\n",
        "train_labels = np.concatenate((train_labels, train_labels, train_labels, train_labels,train_labels, train_labels,train_labels, train_labels),axis=0)"
      ]
    },
    {
      "cell_type": "code",
      "execution_count": null,
      "metadata": {
        "id": "usDpazuOTdiG"
      },
      "outputs": [],
      "source": [
        "x_train = train_images\n",
        "x_test = test_images\n",
        "\n",
        "# x_train /= NORMALIZING_VALUE\n",
        "# x_test /= NORMALIZING_VALUE\n",
        "\n",
        "y_train = train_labels"
      ]
    },
    {
      "cell_type": "code",
      "execution_count": null,
      "metadata": {
        "id": "OvjWemS94U9q"
      },
      "outputs": [],
      "source": [
        "class_names = ['p_smooth', 'p_features', 'p_irregular', 'p_point_source', 'p_unclassifiable']"
      ]
    },
    {
      "cell_type": "markdown",
      "metadata": {
        "id": "tByb1sSe2_ji"
      },
      "source": [
        "## Inicializar modelo, optimizador, perdida y metricas"
      ]
    },
    {
      "cell_type": "code",
      "execution_count": null,
      "metadata": {
        "id": "o4o_hBuRIZ-H"
      },
      "outputs": [],
      "source": [
        "model = keras.models.Sequential()\n",
        "\n",
        "loss = tf.keras.losses.MeanSquaredError(reduction=\"auto\", name=\"mean_squared_error\")\n",
        "optim = keras.optimizers.Adam(learning_rate=LEARNING_RATE)\n",
        "\n",
        "metrics = [keras.metrics.RootMeanSquaredError(), \"mse\", \"mae\"]"
      ]
    },
    {
      "cell_type": "markdown",
      "metadata": {
        "id": "t5BE7r8324VH"
      },
      "source": [
        "## Modelo"
      ]
    },
    {
      "cell_type": "code",
      "execution_count": null,
      "metadata": {
        "id": "n7u0O3owgBj1",
        "colab": {
          "base_uri": "https://localhost:8080/"
        },
        "outputId": "f4dca80c-4f9f-46cc-bb01-ecdf8793eac5"
      },
      "outputs": [
        {
          "output_type": "stream",
          "name": "stdout",
          "text": [
            "Model: \"sequential\"\n",
            "_________________________________________________________________\n",
            " Layer (type)                Output Shape              Param #   \n",
            "=================================================================\n",
            " conv2d (Conv2D)             (None, 88, 88, 8)         80        \n",
            "                                                                 \n",
            " max_pooling2d (MaxPooling2D  (None, 44, 44, 8)        0         \n",
            " )                                                               \n",
            "                                                                 \n",
            " conv2d_1 (Conv2D)           (None, 43, 43, 16)        528       \n",
            "                                                                 \n",
            " conv2d_2 (Conv2D)           (None, 42, 42, 16)        1040      \n",
            "                                                                 \n",
            " max_pooling2d_1 (MaxPooling  (None, 21, 21, 16)       0         \n",
            " 2D)                                                             \n",
            "                                                                 \n",
            " conv2d_3 (Conv2D)           (None, 20, 20, 32)        2080      \n",
            "                                                                 \n",
            " conv2d_4 (Conv2D)           (None, 19, 19, 32)        4128      \n",
            "                                                                 \n",
            " max_pooling2d_2 (MaxPooling  (None, 9, 9, 32)         0         \n",
            " 2D)                                                             \n",
            "                                                                 \n",
            " conv2d_5 (Conv2D)           (None, 8, 8, 64)          8256      \n",
            "                                                                 \n",
            " conv2d_6 (Conv2D)           (None, 7, 7, 64)          16448     \n",
            "                                                                 \n",
            " max_pooling2d_3 (MaxPooling  (None, 3, 3, 64)         0         \n",
            " 2D)                                                             \n",
            "                                                                 \n",
            " conv2d_7 (Conv2D)           (None, 2, 2, 256)         65792     \n",
            "                                                                 \n",
            " conv2d_8 (Conv2D)           (None, 1, 1, 256)         262400    \n",
            "                                                                 \n",
            " flatten (Flatten)           (None, 256)               0         \n",
            "                                                                 \n",
            " dense (Dense)               (None, 32)                8224      \n",
            "                                                                 \n",
            " dropout (Dropout)           (None, 32)                0         \n",
            "                                                                 \n",
            " dense_1 (Dense)             (None, 64)                2112      \n",
            "                                                                 \n",
            " dropout_1 (Dropout)         (None, 64)                0         \n",
            "                                                                 \n",
            " dense_2 (Dense)             (None, 5)                 325       \n",
            "                                                                 \n",
            "=================================================================\n",
            "Total params: 371,413\n",
            "Trainable params: 371,413\n",
            "Non-trainable params: 0\n",
            "_________________________________________________________________\n",
            "None\n"
          ]
        }
      ],
      "source": [
        "# Tres capas convolucionales con capas de pooling respectivas  \n",
        "model.add(layers.Conv2D(8, (3,3), strides=(1,1), padding = \"valid\", input_shape = (MAX_IMAGE_SIZE,MAX_IMAGE_SIZE,1)))\n",
        "model.add(layers.MaxPool2D(2, 2))\n",
        "model.add(layers.Conv2D(16, 2, activation='relu'))\n",
        "model.add(layers.Conv2D(16, 2, activation='relu'))\n",
        "model.add(layers.MaxPool2D(2, 2))\n",
        "model.add(layers.Conv2D(32, 2, activation='relu'))\n",
        "model.add(layers.Conv2D(32, 2, activation='relu'))\n",
        "model.add(layers.MaxPool2D(2, 2))\n",
        "model.add(layers.Conv2D(64, 2, activation='relu'))\n",
        "model.add(layers.Conv2D(64, 2, activation='relu'))\n",
        "model.add(layers.MaxPool2D(2, 2))\n",
        "model.add(layers.Conv2D(256, 2, activation='relu'))\n",
        "model.add(layers.Conv2D(256, 2, activation='relu'))\n",
        "#model.add(layers.MaxPool2D(2, 2))\n",
        "# Capa de aplanamiento \n",
        "model.add(layers.Flatten())\n",
        "# Capa regularizadora\n",
        "model.add(layers.Dense(32, activation='relu', input_shape=(MAX_IMAGE_SIZE,MAX_IMAGE_SIZE,1), kernel_regularizer=regularizers.l1(0.01)))\n",
        "model.add(Dropout(0.2))\n",
        "model.add(layers.Dense(64, activation='relu', input_shape=(MAX_IMAGE_SIZE,MAX_IMAGE_SIZE,1), kernel_regularizer=regularizers.l1(0.01)))\n",
        "model.add(Dropout(0.2))\n",
        "# Capa densa final \n",
        "model.add(layers.Dense(5 , activation = 'softmax'))\n",
        "print(model.summary())"
      ]
    },
    {
      "cell_type": "markdown",
      "metadata": {
        "id": "H-3KRKYW3UOy"
      },
      "source": [
        "## Compilacion "
      ]
    },
    {
      "cell_type": "code",
      "execution_count": null,
      "metadata": {
        "id": "nZDBRgBx6A-M"
      },
      "outputs": [],
      "source": [
        "model.compile(optimizer = optim, loss = loss, metrics = metrics)\n",
        "callback = tf.keras.callbacks.EarlyStopping(monitor='loss', patience=3)"
      ]
    },
    {
      "cell_type": "markdown",
      "metadata": {
        "id": "GeWy8PO73WKe"
      },
      "source": [
        "batch size, epocas, tamaño de validacion"
      ]
    },
    {
      "cell_type": "code",
      "execution_count": null,
      "metadata": {
        "id": "uZjEJztF64ho",
        "colab": {
          "base_uri": "https://localhost:8080/"
        },
        "outputId": "c7ddbc16-c24d-4a14-8187-ef67fae7fa4f"
      },
      "outputs": [
        {
          "output_type": "stream",
          "name": "stdout",
          "text": [
            "Epoch 1/60\n",
            "724/724 [==============================] - 16s 12ms/step - loss: 5.4338 - root_mean_squared_error: 0.2343 - mse: 0.0549 - mae: 0.1724 - val_loss: 2.8579 - val_root_mean_squared_error: 0.2063 - val_mse: 0.0426 - val_mae: 0.1467\n",
            "Epoch 2/60\n",
            "724/724 [==============================] - 6s 9ms/step - loss: 1.4231 - root_mean_squared_error: 0.2139 - mse: 0.0458 - mae: 0.1532 - val_loss: 0.5454 - val_root_mean_squared_error: 0.2128 - val_mse: 0.0453 - val_mae: 0.1533\n",
            "Epoch 3/60\n",
            "724/724 [==============================] - 7s 10ms/step - loss: 0.2871 - root_mean_squared_error: 0.2149 - mse: 0.0462 - mae: 0.1540 - val_loss: 0.1039 - val_root_mean_squared_error: 0.2065 - val_mse: 0.0426 - val_mae: 0.1487\n",
            "Epoch 4/60\n",
            "724/724 [==============================] - 6s 9ms/step - loss: 0.0630 - root_mean_squared_error: 0.2100 - mse: 0.0441 - mae: 0.1486 - val_loss: 0.0498 - val_root_mean_squared_error: 0.2006 - val_mse: 0.0403 - val_mae: 0.1413\n",
            "Epoch 5/60\n",
            "724/724 [==============================] - 7s 10ms/step - loss: 0.0499 - root_mean_squared_error: 0.2050 - mse: 0.0420 - mae: 0.1430 - val_loss: 0.0457 - val_root_mean_squared_error: 0.1976 - val_mse: 0.0390 - val_mae: 0.1341\n",
            "Epoch 6/60\n",
            "724/724 [==============================] - 6s 9ms/step - loss: 0.0472 - root_mean_squared_error: 0.2025 - mse: 0.0410 - mae: 0.1397 - val_loss: 0.0447 - val_root_mean_squared_error: 0.1967 - val_mse: 0.0387 - val_mae: 0.1335\n",
            "Epoch 7/60\n",
            "724/724 [==============================] - 7s 10ms/step - loss: 0.0457 - root_mean_squared_error: 0.2002 - mse: 0.0401 - mae: 0.1372 - val_loss: 0.0428 - val_root_mean_squared_error: 0.1935 - val_mse: 0.0374 - val_mae: 0.1333\n",
            "Epoch 8/60\n",
            "724/724 [==============================] - 6s 9ms/step - loss: 0.0449 - root_mean_squared_error: 0.1986 - mse: 0.0394 - mae: 0.1352 - val_loss: 0.0419 - val_root_mean_squared_error: 0.1923 - val_mse: 0.0370 - val_mae: 0.1310\n",
            "Epoch 9/60\n",
            "724/724 [==============================] - 7s 10ms/step - loss: 0.0442 - root_mean_squared_error: 0.1966 - mse: 0.0387 - mae: 0.1334 - val_loss: 0.0417 - val_root_mean_squared_error: 0.1915 - val_mse: 0.0367 - val_mae: 0.1325\n",
            "Epoch 10/60\n",
            "724/724 [==============================] - 7s 10ms/step - loss: 0.0434 - root_mean_squared_error: 0.1956 - mse: 0.0383 - mae: 0.1326 - val_loss: 0.0413 - val_root_mean_squared_error: 0.1907 - val_mse: 0.0364 - val_mae: 0.1275\n",
            "Epoch 11/60\n",
            "724/724 [==============================] - 8s 10ms/step - loss: 0.0424 - root_mean_squared_error: 0.1939 - mse: 0.0376 - mae: 0.1307 - val_loss: 0.0404 - val_root_mean_squared_error: 0.1882 - val_mse: 0.0354 - val_mae: 0.1256\n",
            "Epoch 12/60\n",
            "724/724 [==============================] - 7s 10ms/step - loss: 0.0426 - root_mean_squared_error: 0.1933 - mse: 0.0374 - mae: 0.1303 - val_loss: 0.0421 - val_root_mean_squared_error: 0.1941 - val_mse: 0.0377 - val_mae: 0.1277\n",
            "Epoch 13/60\n",
            "724/724 [==============================] - 7s 10ms/step - loss: 0.0418 - root_mean_squared_error: 0.1926 - mse: 0.0371 - mae: 0.1295 - val_loss: 0.0401 - val_root_mean_squared_error: 0.1889 - val_mse: 0.0357 - val_mae: 0.1266\n",
            "Epoch 14/60\n",
            "724/724 [==============================] - 6s 9ms/step - loss: 0.0416 - root_mean_squared_error: 0.1922 - mse: 0.0370 - mae: 0.1294 - val_loss: 0.0392 - val_root_mean_squared_error: 0.1862 - val_mse: 0.0347 - val_mae: 0.1232\n",
            "Epoch 15/60\n",
            "724/724 [==============================] - 7s 10ms/step - loss: 0.0412 - root_mean_squared_error: 0.1914 - mse: 0.0366 - mae: 0.1284 - val_loss: 0.0388 - val_root_mean_squared_error: 0.1860 - val_mse: 0.0346 - val_mae: 0.1251\n",
            "Epoch 16/60\n",
            "724/724 [==============================] - 6s 9ms/step - loss: 0.0412 - root_mean_squared_error: 0.1911 - mse: 0.0365 - mae: 0.1279 - val_loss: 0.0398 - val_root_mean_squared_error: 0.1887 - val_mse: 0.0356 - val_mae: 0.1264\n",
            "Epoch 17/60\n",
            "724/724 [==============================] - 7s 10ms/step - loss: 0.0411 - root_mean_squared_error: 0.1900 - mse: 0.0361 - mae: 0.1273 - val_loss: 0.0402 - val_root_mean_squared_error: 0.1874 - val_mse: 0.0351 - val_mae: 0.1238\n",
            "Epoch 18/60\n",
            "724/724 [==============================] - 6s 9ms/step - loss: 0.0405 - root_mean_squared_error: 0.1890 - mse: 0.0357 - mae: 0.1269 - val_loss: 0.0383 - val_root_mean_squared_error: 0.1842 - val_mse: 0.0339 - val_mae: 0.1240\n",
            "Epoch 19/60\n",
            "724/724 [==============================] - 7s 10ms/step - loss: 0.0406 - root_mean_squared_error: 0.1890 - mse: 0.0357 - mae: 0.1267 - val_loss: 0.0387 - val_root_mean_squared_error: 0.1840 - val_mse: 0.0338 - val_mae: 0.1248\n",
            "Epoch 20/60\n",
            "724/724 [==============================] - 6s 9ms/step - loss: 0.0407 - root_mean_squared_error: 0.1886 - mse: 0.0356 - mae: 0.1261 - val_loss: 0.0381 - val_root_mean_squared_error: 0.1837 - val_mse: 0.0337 - val_mae: 0.1225\n",
            "Epoch 21/60\n",
            "724/724 [==============================] - 7s 10ms/step - loss: 0.0410 - root_mean_squared_error: 0.1889 - mse: 0.0357 - mae: 0.1258 - val_loss: 0.0390 - val_root_mean_squared_error: 0.1833 - val_mse: 0.0336 - val_mae: 0.1211\n"
          ]
        }
      ],
      "source": [
        "batch_size = 64 \n",
        "epochs =  60\n",
        "validation_size = 0.1\n",
        "\n",
        "history = model.fit(x_train, y_train, epochs = epochs , batch_size = batch_size, validation_split = validation_size, callbacks=[callback] )"
      ]
    },
    {
      "cell_type": "markdown",
      "metadata": {
        "id": "A5lLhbil3jkR"
      },
      "source": [
        "## Rendimiento"
      ]
    },
    {
      "cell_type": "code",
      "execution_count": null,
      "metadata": {
        "id": "y6DtbRJfvoNT",
        "colab": {
          "base_uri": "https://localhost:8080/",
          "height": 472
        },
        "outputId": "bdc8d023-c947-4416-827f-c0dc15fb3a1f"
      },
      "outputs": [
        {
          "output_type": "display_data",
          "data": {
            "text/plain": [
              "<Figure size 640x480 with 1 Axes>"
            ],
            "image/png": "[encoded data removed]"
          },
          "metadata": {}
        }
      ],
      "source": [
        "plt.plot(history.epoch, history.history['val_loss'], label='val_loss')\n",
        "plt.plot(history.epoch, history.history['loss'], label='loss')\n",
        "plt.title('Model loss')\n",
        "plt.xlabel('Epoch')\n",
        "plt.ylabel('Loss')\n",
        "plt.legend([ 'Validation','Train',], loc='upper right')\n",
        "plt.show()"
      ]
    },
    {
      "cell_type": "code",
      "execution_count": null,
      "metadata": {
        "id": "r3doXKurzgpS",
        "colab": {
          "base_uri": "https://localhost:8080/",
          "height": 472
        },
        "outputId": "ef9b2ba5-6d7d-40fc-ae00-bf5d221aa96b"
      },
      "outputs": [
        {
          "output_type": "display_data",
          "data": {
            "text/plain": [
              "<Figure size 640x480 with 1 Axes>"
            ],
            "image/png": "[encoded data removed]"
          },
          "metadata": {}
        }
      ],
      "source": [
        "plt.plot(history.epoch, history.history['root_mean_squared_error'], label='root_mean_squared_error')\n",
        "plt.plot(history.epoch, history.history['val_root_mean_squared_error'], label='val_root_mean_squared_error')\n",
        "plt.title('Model RMSE')\n",
        "plt.ylabel('RMSE')\n",
        "plt.xlabel('Epoch')\n",
        "plt.legend(['Train', 'Validation'], loc='upper right')\n",
        "plt.show()"
      ]
    },
    {
      "cell_type": "code",
      "execution_count": null,
      "metadata": {
        "id": "p5uEMpodiUf-",
        "colab": {
          "base_uri": "https://localhost:8080/",
          "height": 34
        },
        "outputId": "87051c80-e354-484a-b07d-5a9294ac7bd8"
      },
      "outputs": [
        {
          "output_type": "stream",
          "name": "stdout",
          "text": [
            "36/36 [==============================] - 1s 7ms/step\n"
          ]
        },
        {
          "output_type": "display_data",
          "data": {
            "text/plain": [
              "<IPython.core.display.Javascript object>"
            ],
            "application/javascript": [
              "\n",
              "    async function download(id, filename, size) {\n",
              "      if (!google.colab.kernel.accessAllowed) {\n",
              "        return;\n",
              "      }\n",
              "      const div = document.createElement('div');\n",
              "      const label = document.createElement('label');\n",
              "      label.textContent = `Downloading \"${filename}\": `;\n",
              "      div.appendChild(label);\n",
              "      const progress = document.createElement('progress');\n",
              "      progress.max = size;\n",
              "      div.appendChild(progress);\n",
              "      document.body.appendChild(div);\n",
              "\n",
              "      const buffers = [];\n",
              "      let downloaded = 0;\n",
              "\n",
              "      const channel = await google.colab.kernel.comms.open(id);\n",
              "      // Send a message to notify the kernel that we're ready.\n",
              "      channel.send({})\n",
              "\n",
              "      for await (const message of channel.messages) {\n",
              "        // Send a message to notify the kernel that we're ready.\n",
              "        channel.send({})\n",
              "        if (message.buffers) {\n",
              "          for (const buffer of message.buffers) {\n",
              "            buffers.push(buffer);\n",
              "            downloaded += buffer.byteLength;\n",
              "            progress.value = downloaded;\n",
              "          }\n",
              "        }\n",
              "      }\n",
              "      const blob = new Blob(buffers, {type: 'application/binary'});\n",
              "      const a = document.createElement('a');\n",
              "      a.href = window.URL.createObjectURL(blob);\n",
              "      a.download = filename;\n",
              "      div.appendChild(a);\n",
              "      a.click();\n",
              "      div.remove();\n",
              "    }\n",
              "  "
            ]
          },
          "metadata": {}
        },
        {
          "output_type": "display_data",
          "data": {
            "text/plain": [
              "<IPython.core.display.Javascript object>"
            ],
            "application/javascript": [
              "download(\"download_24962741-9ccc-4115-9002-9db8a6aabcda\", \"predicted.csv\", 130255)"
            ]
          },
          "metadata": {}
        }
      ],
      "source": [
        "predictions = model.predict(x_test)\n",
        "np.set_printoptions(threshold=np.inf)\n",
        "\n",
        "ids_test = open(path+'ids_test.txt')\n",
        "headerList = ['ID', 'p_smooth', 'p_features', 'p_irregular', 'p_point_source', 'p_unclassifiable']\n",
        "i=0\n",
        "with open('predicted.csv', 'w') as f:\n",
        "  dw = csv.DictWriter(f, delimiter=',', fieldnames=headerList)\n",
        "  dw.writeheader()\n",
        "  for key in ids_test:\n",
        "    key = key.strip()\n",
        "    row = [key] + predictions[i].tolist()\n",
        "    line = ','.join([str(elem) for elem in row]) + '\\n'\n",
        "    f.write(line)\n",
        "    i += 1\n",
        "\n",
        "files.download('predicted.csv')"
      ]
    }
  ],
  "metadata": {
    "accelerator": "GPU",
    "colab": {
      "provenance": []
    },
    "gpuClass": "standard",
    "kernelspec": {
      "display_name": "Python 3",
      "name": "python3"
    },
    "language_info": {
      "name": "python"
    }
  },
  "nbformat": 4,
  "nbformat_minor": 0
}